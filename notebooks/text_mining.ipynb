{
 "cells": [
  {
   "cell_type": "markdown",
   "metadata": {},
   "source": [
    "## Imports"
   ]
  },
  {
   "cell_type": "code",
   "execution_count": 1,
   "metadata": {},
   "outputs": [
    {
     "name": "stderr",
     "output_type": "stream",
     "text": [
      "[nltk_data] Downloading package stopwords to\n",
      "[nltk_data]     /home/yousinator/nltk_data...\n",
      "[nltk_data]   Package stopwords is already up-to-date!\n",
      "[nltk_data] Downloading package punkt to /home/yousinator/nltk_data...\n",
      "[nltk_data]   Package punkt is already up-to-date!\n",
      "[nltk_data] Downloading package punkt_tab to\n",
      "[nltk_data]     /home/yousinator/nltk_data...\n",
      "[nltk_data]   Package punkt_tab is already up-to-date!\n"
     ]
    }
   ],
   "source": [
    "import pandas as pd\n",
    "import numpy as np\n",
    "import nltk\n",
    "\n",
    "nltk.download('stopwords')\n",
    "nltk.download('punkt')\n",
    "nltk.download('punkt_tab')\n",
    "\n",
    "from nltk.corpus import stopwords\n",
    "from nltk.tokenize import word_tokenize\n",
    "from nltk.stem import PorterStemmer\n",
    "from sklearn.feature_extraction.text import TfidfVectorizer\n",
    "\n",
    "from sklearn.metrics.pairwise import cosine_similarity, euclidean_distances, manhattan_distances\n"
   ]
  },
  {
   "cell_type": "markdown",
   "metadata": {},
   "source": [
    "## DF"
   ]
  },
  {
   "cell_type": "code",
   "execution_count": 2,
   "metadata": {},
   "outputs": [],
   "source": [
    "df = pd.read_csv(\"../data/Final_students_data.csv\")"
   ]
  },
  {
   "cell_type": "code",
   "execution_count": 3,
   "metadata": {},
   "outputs": [
    {
     "data": {
      "text/html": [
       "<div>\n",
       "<style scoped>\n",
       "    .dataframe tbody tr th:only-of-type {\n",
       "        vertical-align: middle;\n",
       "    }\n",
       "\n",
       "    .dataframe tbody tr th {\n",
       "        vertical-align: top;\n",
       "    }\n",
       "\n",
       "    .dataframe thead th {\n",
       "        text-align: right;\n",
       "    }\n",
       "</style>\n",
       "<table border=\"1\" class=\"dataframe\">\n",
       "  <thead>\n",
       "    <tr style=\"text-align: right;\">\n",
       "      <th></th>\n",
       "      <th>Name</th>\n",
       "      <th>Year</th>\n",
       "      <th>Programming Languages</th>\n",
       "      <th>Certifications</th>\n",
       "      <th>Project Count</th>\n",
       "      <th>Extracurricular Activities</th>\n",
       "      <th>Career Interest</th>\n",
       "      <th>Bio</th>\n",
       "      <th>Cluster</th>\n",
       "    </tr>\n",
       "  </thead>\n",
       "  <tbody>\n",
       "    <tr>\n",
       "      <th>0</th>\n",
       "      <td>Laila Mansour</td>\n",
       "      <td>2</td>\n",
       "      <td>Python; R; SQL</td>\n",
       "      <td>Data Science Professional Certificate (IBM)</td>\n",
       "      <td>4</td>\n",
       "      <td>AI Club Mentor</td>\n",
       "      <td>Data Scientist</td>\n",
       "      <td>Laila has always been fascinated by the patter...</td>\n",
       "      <td>1</td>\n",
       "    </tr>\n",
       "    <tr>\n",
       "      <th>1</th>\n",
       "      <td>Omar Al-Hassan</td>\n",
       "      <td>4</td>\n",
       "      <td>Java; C++; HTML</td>\n",
       "      <td>CompTIA Security+</td>\n",
       "      <td>5</td>\n",
       "      <td>Cybersecurity Competition Participant</td>\n",
       "      <td>Cybersecurity Analyst</td>\n",
       "      <td>A forth-year student at Princess Sumaya Univer...</td>\n",
       "      <td>2</td>\n",
       "    </tr>\n",
       "    <tr>\n",
       "      <th>2</th>\n",
       "      <td>Rania Khoury</td>\n",
       "      <td>1</td>\n",
       "      <td>C; Python; JavaScript</td>\n",
       "      <td>Java Programming (Oracle)</td>\n",
       "      <td>3</td>\n",
       "      <td>Peer Programming Tutor</td>\n",
       "      <td>Software Developer</td>\n",
       "      <td>Rania entered the University of Jordan's Compu...</td>\n",
       "      <td>0</td>\n",
       "    </tr>\n",
       "    <tr>\n",
       "      <th>3</th>\n",
       "      <td>Khaled Abbas</td>\n",
       "      <td>2</td>\n",
       "      <td>SQL; Python; R</td>\n",
       "      <td>Data Science Professional Certificate (IBM)</td>\n",
       "      <td>4</td>\n",
       "      <td>Volunteer Tutor</td>\n",
       "      <td>Data Scientist</td>\n",
       "      <td>Khaled has a knack for translating data into m...</td>\n",
       "      <td>1</td>\n",
       "    </tr>\n",
       "    <tr>\n",
       "      <th>4</th>\n",
       "      <td>Nour Husseini</td>\n",
       "      <td>3</td>\n",
       "      <td>Python; Java; SQL</td>\n",
       "      <td>CEH</td>\n",
       "      <td>5</td>\n",
       "      <td>Tech Community Member</td>\n",
       "      <td>Cybersecurity Analyst</td>\n",
       "      <td>In her Third year at Petra University, Nour is...</td>\n",
       "      <td>2</td>\n",
       "    </tr>\n",
       "  </tbody>\n",
       "</table>\n",
       "</div>"
      ],
      "text/plain": [
       "             Name  Year  Programming Languages  \\\n",
       "0   Laila Mansour     2         Python; R; SQL   \n",
       "1  Omar Al-Hassan     4        Java; C++; HTML   \n",
       "2    Rania Khoury     1  C; Python; JavaScript   \n",
       "3    Khaled Abbas     2         SQL; Python; R   \n",
       "4   Nour Husseini     3      Python; Java; SQL   \n",
       "\n",
       "                                Certifications  Project Count  \\\n",
       "0  Data Science Professional Certificate (IBM)              4   \n",
       "1                            CompTIA Security+              5   \n",
       "2                    Java Programming (Oracle)              3   \n",
       "3  Data Science Professional Certificate (IBM)              4   \n",
       "4                                          CEH              5   \n",
       "\n",
       "              Extracurricular Activities        Career Interest  \\\n",
       "0                         AI Club Mentor         Data Scientist   \n",
       "1  Cybersecurity Competition Participant  Cybersecurity Analyst   \n",
       "2                 Peer Programming Tutor     Software Developer   \n",
       "3                        Volunteer Tutor         Data Scientist   \n",
       "4                  Tech Community Member  Cybersecurity Analyst   \n",
       "\n",
       "                                                 Bio  Cluster  \n",
       "0  Laila has always been fascinated by the patter...        1  \n",
       "1  A forth-year student at Princess Sumaya Univer...        2  \n",
       "2  Rania entered the University of Jordan's Compu...        0  \n",
       "3  Khaled has a knack for translating data into m...        1  \n",
       "4  In her Third year at Petra University, Nour is...        2  "
      ]
     },
     "execution_count": 3,
     "metadata": {},
     "output_type": "execute_result"
    }
   ],
   "source": [
    "df.head()"
   ]
  },
  {
   "cell_type": "code",
   "execution_count": 4,
   "metadata": {},
   "outputs": [],
   "source": [
    "docs = list(df[\"Bio\"])"
   ]
  },
  {
   "cell_type": "markdown",
   "metadata": {},
   "source": [
    "## Class"
   ]
  },
  {
   "cell_type": "code",
   "execution_count": 5,
   "metadata": {},
   "outputs": [],
   "source": [
    "class TextMiner:\n",
    "    def __init__(self, docs, df):\n",
    "        self.docs = docs\n",
    "        self.docs = self.tokenize_docs(docs)\n",
    "        self.docs = self.lowercase(docs)\n",
    "        self.docs = self.remove_stopwords(docs)\n",
    "        self.docs = self.remove_punctuation(docs)\n",
    "        self.docs = self.stemmer(docs)\n",
    "        self.df = df\n",
    "\n",
    "\n",
    "    def tokenize_docs(self, docs):\n",
    "\n",
    "        for x, doc in enumerate(docs):\n",
    "            token = word_tokenize(doc)\n",
    "            docs[x] = token\n",
    "        return docs\n",
    "\n",
    "    def lowercase(self, docs):\n",
    "        for x, doc in enumerate(docs):\n",
    "            docs[x] = [word.lower() for word in doc]\n",
    "        return docs\n",
    "\n",
    "    def remove_stopwords(self, docs):\n",
    "        stop_words = set(stopwords.words('english'))\n",
    "        for x, doc in enumerate(docs):\n",
    "            docs[x] = [word for word in doc if word not in stop_words]\n",
    "        return docs\n",
    "\n",
    "    def remove_punctuation(self, docs):\n",
    "        for x, doc in enumerate(docs):\n",
    "            docs[x] = [word for word in doc if word.isalpha()]\n",
    "        return docs\n",
    "\n",
    "    def stemmer(self, docs):\n",
    "        stemmer = PorterStemmer()\n",
    "        for x, doc in enumerate(docs):\n",
    "            docs[x] = [stemmer.stem(word) for word in doc]\n",
    "        return docs\n",
    "\n",
    "    def tf_idf(self, docs):\n",
    "        for x, doc in enumerate(docs):\n",
    "            docs[x] = \" \".join(doc)\n",
    "\n",
    "        tfidf = TfidfVectorizer()\n",
    "        processed_docs = tfidf.fit_transform(docs)\n",
    "        tfidf = pd.DataFrame(processed_docs.toarray(), columns=tfidf.get_feature_names_out(), index = [x for x in range(len(docs))])\n",
    "        return tfidf\n",
    "\n",
    "    def process_query(self, query):\n",
    "        self.query = self.tokenize_docs(query)\n",
    "        self.query = self.lowercase(query)\n",
    "        self.query = self.remove_stopwords(query)\n",
    "        self.query = self.remove_punctuation(query)\n",
    "        self.query = self.stemmer(query)\n",
    "        return query[0]\n",
    "\n",
    "    def rank(self, df):\n",
    "        cosine_similarity_result = []\n",
    "\n",
    "        B = np.array(df.iloc[-1])\n",
    "        B = B.reshape(1,-1)\n",
    "        for x in range(df.shape[0] - 1):\n",
    "            A = np.array(df.iloc[x])\n",
    "            A = A.reshape(1,-1)\n",
    "\n",
    "            cosine_similarity_result.append(cosine_similarity(A, B))\n",
    "        sim_df = self.df.copy()\n",
    "        sim_df[\"Similarity\"] = [float(x.item()) for x in cosine_similarity_result]\n",
    "        if (min(sim_df[\"Similarity\"]) == 0 and max(sim_df[\"Similarity\"])==0):\n",
    "            return \"There are no matching results\"\n",
    "        sim_df = sim_df[sim_df[\"Similarity\"] != 0]\n",
    "        percentile = np.percentile(sim_df[\"Similarity\"], 90)\n",
    "        final = sim_df[sim_df[\"Similarity\"] >= percentile]\n",
    "        final = sim_df[sim_df[\"Similarity\"] >= (max(sim_df[\"Similarity\"]) / 1.5)]\n",
    "\n",
    "\n",
    "        return final.sort_values(by=\"Similarity\", ascending=False, kind='heapsort')\n",
    "\n",
    "    def structure_output(self, final):\n",
    "        output = []\n",
    "        for i, row in final.iterrows():\n",
    "            name = self.df.iloc[i][\"Name\"]\n",
    "            bio = self.df.iloc[i][\"Bio\"]\n",
    "            similarity = row[\"Similarity\"]\n",
    "            output.append(f\"[{round(similarity,3)}] {i}- {name}: {bio}\")\n",
    "        return output\n",
    "\n",
    "    def print_output(self, output):\n",
    "        for i, result in enumerate(output):\n",
    "            print(result)\n",
    "\n",
    "    def search(self,query):\n",
    "        query = self.process_query([query])\n",
    "        final_docs = self.docs.copy()\n",
    "        final_docs.append(query)\n",
    "        final_docs = self.tf_idf(final_docs)\n",
    "        ranks = self.rank(final_docs)\n",
    "        if type(ranks) != str:\n",
    "            output = self.structure_output(ranks)\n",
    "        else:\n",
    "            output = \"There are no matching results\"\n",
    "        return output, ranks\n",
    "\n"
   ]
  },
  {
   "cell_type": "markdown",
   "metadata": {},
   "source": [
    "## Task 1"
   ]
  },
  {
   "cell_type": "markdown",
   "metadata": {},
   "source": [
    "### Query 1"
   ]
  },
  {
   "cell_type": "code",
   "execution_count": 6,
   "metadata": {},
   "outputs": [
    {
     "name": "stdout",
     "output_type": "stream",
     "text": [
      "[0.36] 199- Sara Matar: Sara is a second-year Computer Science student at Petra University. She is part of Women in Computing and aspires to be a Web Developer.\n",
      "[0.329] 184- Layla Qasim: Layla is a first-year Computer Science student at the University of Jordan, focusing on front-end web development. She is a member of Women in Tech and aims to work as a Front-End Developer.\n",
      "[0.323] 151- Yousef Talal: Yousef is a second-year Computer Science student at Princess Sumaya University for Technology and a certified web developer. He mentors students in tech skills and plans to be a Software Engineer, developing scalable web applications.\n",
      "[0.306] 193- Nadia Fares: Nadia is a first-year Computer Science student at Petra University, focusing on front-end development. She is part of the Student Coding Society and aspires to become a Web Developer.\n",
      "[0.299] 227- Lina Fares: Lina is a first-year Computer Science student at the University of Jordan with an interest in web development and a member of Tech Enthusiasts.\n",
      "[0.294] 117- Farah Zayed: Farah is a second-year Computer Science student at the University of Jordan. She has completed a web developer bootcamp and is passionate about software development. Farah aims to be a Software Developer, building innovative web applications.\n",
      "[0.286] 145- Kareem Sami: Kareem is a first-year Computer Science student at Al Hussein Technical University with a focus on full stack web development. He is part of the Student Council and aims to become a Software Developer, specializing in building complete web solutions.\n",
      "[0.265] 215- Ibrahim Sameer: Ibrahim is a second-year Computer Science student at Al Hussein Technical University. He is interested in web development and active in the Code Club.\n",
      "[0.265] 205- Omar Sami: Omar is a first-year Computer Science student at Petra University, specializing in back-end development. He is part of the Developer Network and aspires to be a Back-End Developer.\n",
      "[0.264] 173- Omar Nassar: Omar is a senior Computer Science student at the University of Jordan, specializing in front-end development. He is part of the Developer Student Club and aims to be a Front-End Developer.\n",
      "[0.261] 102- Maha Azzam: Maha, a senior Computer Science student at the University of Jordan, is working as a Software Development Intern. She is certified in full-stack development and aspires to be a Software Developer, focusing on building robust and scalable web applications.\n",
      "[0.257] 96- Noor Ibrahim: Noor is a senior Computer Science student at Jordan University of Science & Technology, passionate about web development. She participates in the Software Engineering Club and is working on a portfolio of full-stack applications. Noor aims to become a Software Developer, building scalable web applications.\n",
      "[0.256] 132- Salma Ali: Salma is a second-year Computer Science student at the University of Jordan. She completed a web development bootcamp and actively participates in the Women in Tech initiative. Salma aims to become a Software Developer, focusing on inclusive web applications.\n"
     ]
    },
    {
     "data": {
      "text/plain": [
       "pandas.core.frame.DataFrame"
      ]
     },
     "execution_count": 6,
     "metadata": {},
     "output_type": "execute_result"
    }
   ],
   "source": [
    "miner = TextMiner(docs.copy(), df.copy())\n",
    "\n",
    "output, ranks = miner.search(\"Web developer with computer Science degree\")\n",
    "\n",
    "miner.print_output(output)\n",
    "type(ranks)"
   ]
  },
  {
   "cell_type": "markdown",
   "metadata": {},
   "source": [
    "### Query 2"
   ]
  },
  {
   "cell_type": "code",
   "execution_count": 7,
   "metadata": {},
   "outputs": [
    {
     "name": "stdout",
     "output_type": "stream",
     "text": [
      "[0.633] 239- Rana Fadel: Rana is a senior Data Science student at Al Hussein Technical University, focusing on data science and a member of the Data Science Network.\n",
      "[0.628] 203- Mahmoud Khaled: Mahmoud is a second-year Data Science student at Jordan University of Science & Technology. He is part of the Student Data Society and aims to work as a Data Scientist.\n",
      "[0.597] 191- Salma Hasan: Salma is a third-year Data Science student at the University of Jordan. She is part of the Data Science and Innovation club and aims to work as a Data Scientist.\n",
      "[0.583] 219- Tamer Fares: Tamer is a third-year Data Science student at Petra University with an interest in data engineering. He is part of the Data Science Society.\n",
      "[0.582] 200- Ali Quraishi: Ali is a third-year Data Science student at the University of Jordan, specializing in data analytics. He is part of the Data Analysis Club and aims to become a Data Analyst.\n",
      "[0.565] 183- Majid Rashid: Majid is a third-year Data Science student at Petra University, specializing in data analytics. He is part of Data Innovators and aims to work as a Data Analyst.\n",
      "[0.557] 248- Sara Nabil: Sara is a third-year Data Science student at the University of Jordan, passionate about data science and a member of Young Data Enthusiasts.\n",
      "[0.541] 216- Nada Tariq: Nada is a third-year Data Science student at PSUT, focusing on data mining. She is a member of the Data Science Collective and aims to be a Data Scientist.\n",
      "[0.541] 136- Aya Rami: Aya is a Data Science student at Petra University with a strong foundation in data science principles. She is a member of the Data Science Club and aims to become a Data Scientist, focusing on solving social issues with data insights.\n",
      "[0.536] 159- Nabil Hassan: Nabil is a second-year Data Science student at Al Hussein Technical University, active in the Data Enthusiasts Club. He is interested in data analytics and aims to work as a Data Analyst.\n",
      "[0.533] 171- Karim Saad: Karim is a second-year Data Science student at Petra University, focused on data science and innovation. He is part of the Data Innovation Hub and aims to become a Data Scientist.\n",
      "[0.53] 213- Khaled Younes: Khaled is a second-year Data Science student at the University of Jordan, specializing in data analysis and a member of the Data Insights Club.\n",
      "[0.522] 168- Yasmin Fares: Yasmin is a second-year Data Science student at Princess Sumaya University for Technology. She is part of the Data Science Club and wants to be a Data Scientist, focusing on predictive analytics.\n",
      "[0.514] 112- Abeer Nader: Abeer is a Data Science student at Jordan University of Science & Technology, with an enthusiasm for AI and data analysis. She is eager to explore data science projects and aims to become a Data Scientist, focusing on AI-driven solutions for business challenges.\n",
      "[0.512] 242- Farah Ziad: Farah is a second-year Data Science student at Petra University, interested in data analysis and a member of Data Explorers.\n",
      "[0.51] 155- Ismail Fares: Ismail is a third-year Data Science student at Al Hussein Technical University and part of the Data Enthusiasts Group. He is certified in data analytics and aims to work as a Data Analyst, turning data into business insights.\n",
      "[0.506] 194- Tariq Badr: Tariq is a senior Data Science student at Princess Sumaya University for Technology, focusing on data visualization. He aims to become a Data Scientist.\n",
      "[0.492] 177- Ahmed Qadri: Ahmed is a senior Data Science student at the University of Jordan, part of the Data Analytics Community. He aims to be a Data Scientist, using data to solve complex challenges.\n",
      "[0.486] 152- Sama Kamal: Sama is a Data Science student at the University of Jordan. She is active in the Data Science Society and aims to be a Data Scientist, focusing on data interpretation and its impact on public policy.\n",
      "[0.481] 231- Salma Ziad: Salma is a second-year Data Science student at Al Hussein Technical University, interested in data analysis and part of the Data Insights Society.\n",
      "[0.48] 197- Rima Adnan: Rima is a third-year Data Science student at Jordan University of Science & Technology. She is a member of the Data Science Community and aims to become a Machine Learning Engineer.\n",
      "[0.474] 162- Dalia Sayegh: Dalia is a second-year Data Science student at Petra University. She is active in the Data Visualization Society and wants to be a Data Scientist, focusing on data visualizations.\n",
      "[0.473] 206- Khaled Samir: Khaled is a senior Data Science student at Princess Sumaya University for Technology, focusing on data engineering. He is part of the Data Engineering Group and aims to work as a Data Engineer.\n",
      "[0.472] 115- Rana Faris: Rana is a third-year Data Science student at Petra University, with a passion for data visualization. She has completed several projects in data analysis and aims to work as a Data Scientist, focusing on turning data insights into actionable business decisions.\n",
      "[0.468] 254- Dalia Samir: Dalia is a second-year Data Science student at Al Hussein Technical University with an interest in AI development, active in the Data Science Society.\n",
      "[0.466] 188- Mona Khaled: Mona is a second-year Data Science student at Petra University. She is a member of the Data Science Society and aims to become a Machine Learning Engineer.\n",
      "[0.459] 185- Omar Sayeed: Omar is a senior Data Science student at Al Hussein Technical University. He is active in the AI and Data Club and plans to pursue a career as a Data Analyst.\n",
      "[0.458] 228- Tareq Othman: Tareq is a second-year Data Science student at PSUT with a focus on data engineering and active in the Data Engineering Society.\n",
      "[0.451] 124- Hala Fathi: Hala is a third-year Data Science student at Princess Sumaya University for Technology and leads the Data Science Society. She is passionate about machine learning and aims to become a Data Scientist, using AI for problem-solving in healthcare.\n",
      "[0.449] 158- Mona Khalil: Mona is a senior Data Science student at Petra University. She leads data analysis workshops and aims to be a Data Scientist, using data to drive organizational strategy.\n",
      "[0.447] 127- Hussam Zaki: Hussam is a second-year Data Science student at Al Hussein Technical University. He focuses on data analysis techniques and is part of the Data Science Club. Hussam aspires to work as a Data Scientist, using data insights to improve business processes.\n",
      "[0.424] 140- Dina Hasan: Dina is a second-year Data Science student at Petra University. She is part of the Data Visualization Society and aims to work as a Data Analyst, focusing on creating compelling visualizations for complex data.\n",
      "[0.422] 174- Amal Saleh: Amal is a second-year Data Science student at Al Hussein Technical University, passionate about using data for social good. She aims to work as a Data Analyst.\n",
      "[0.422] 233- Mona Abdulrahman: Mona is a third-year Data Science student at the University of Jordan, focusing on big data and active in the Big Data Club.\n"
     ]
    }
   ],
   "source": [
    "output, ranks = miner.search(\"third-year Data Science student\")\n",
    "\n",
    "miner.print_output(output)"
   ]
  },
  {
   "cell_type": "markdown",
   "metadata": {},
   "source": [
    "### Query 3"
   ]
  },
  {
   "cell_type": "code",
   "execution_count": 8,
   "metadata": {},
   "outputs": [
    {
     "name": "stdout",
     "output_type": "stream",
     "text": [
      "[0.473] 165- Salem Hadi: Salem is a second-year Data Science student at Al Hussein Technical University. He is part of the AI Club and aims to work as a Data Analyst.\n",
      "[0.467] 254- Dalia Samir: Dalia is a second-year Data Science student at Al Hussein Technical University with an interest in AI development, active in the Data Science Society.\n",
      "[0.465] 195- Lina Jamal: Lina is a third-year Cyber Security student at Al Hussein Technical University, aiming to become a Cybersecurity Analyst. She is part of the Women in Security club.\n",
      "[0.463] 215- Ibrahim Sameer: Ibrahim is a second-year Computer Science student at Al Hussein Technical University. He is interested in web development and active in the Code Club.\n",
      "[0.462] 201- Rana Omar: Rana is a forth-year Cyber Security student at Al Hussein Technical University with an interest in security certifications. She aims to work as a Cybersecurity Specialist.\n",
      "[0.457] 249- Fadi Ayman: Fadi is a second-year Computer Science student at Al Hussein Technical University, with a focus on software development and active in the Innovation Lab.\n",
      "[0.434] 239- Rana Fadel: Rana is a senior Data Science student at Al Hussein Technical University, focusing on data science and a member of the Data Science Network.\n",
      "[0.415] 231- Salma Ziad: Salma is a second-year Data Science student at Al Hussein Technical University, interested in data analysis and part of the Data Insights Society.\n",
      "[0.397] 226- Sami Hussein: Sami is a senior Cyber Security student at Al Hussein Technical University with a focus on network security. He is a leader in the Cyber Defense Club.\n",
      "[0.396] 185- Omar Sayeed: Omar is a senior Data Science student at Al Hussein Technical University. He is active in the AI and Data Club and plans to pursue a career as a Data Analyst.\n",
      "[0.377] 207- Reem Jamal: Reem is a third-year Cyber Security student at Al Hussein Technical University, interested in ethical hacking. She is part of Women in Tech Security and aims to become a Security Specialist.\n",
      "[0.371] 116- Ali Kareem: Ali is a Cyber Security student at Al Hussein Technical University, specializing in ethical hacking. He is an active cybersecurity researcher and aspires to become a Cybersecurity Analyst, focusing on network vulnerabilities.\n",
      "[0.366] 159- Nabil Hassan: Nabil is a second-year Data Science student at Al Hussein Technical University, active in the Data Enthusiasts Club. He is interested in data analytics and aims to work as a Data Analyst.\n",
      "[0.365] 174- Amal Saleh: Amal is a second-year Data Science student at Al Hussein Technical University, passionate about using data for social good. She aims to work as a Data Analyst.\n",
      "[0.343] 243- Ahmed Jamal: Ahmed is a senior Computer Science student at Al Hussein Technical University, focusing on database administration and part of DB Admin Society.\n",
      "[0.342] 150- Manal Saleh: Manal is a senior Cyber Security student at Al Hussein Technical University and part of the Cyber Awareness Team. She is interested in cybersecurity engineering and aims to protect organizations from security threats.\n",
      "[0.332] 95- Sami Jaber: Sami, a third-year Cyber Security student at Al Hussein Technical University, is certified in CompTIA Network+ and actively participates in cybersecurity competitions. He aims to work as a Cybersecurity Analyst, focusing on network security and threat detection.\n",
      "[0.321] 179- Faris Sami: Faris is a Computer Science student at Al Hussein Technical University, specializing in cloud computing. He aims to be a Cloud Engineer, focusing on Microsoft Azure.\n",
      "[0.316] 60- Rania Shteiwi: Rania, a student at Al Hussein Technical University, has developed a passion for full-stack web development. She has organized several hackathons and is excited to start her career as a Software Developer, specializing in both front-end and back-end technologies.\n"
     ]
    }
   ],
   "source": [
    "output, ranks = miner.search(\"second-year student at Al Hussein Technical University\")\n",
    "\n",
    "miner.print_output(output)"
   ]
  },
  {
   "cell_type": "markdown",
   "metadata": {},
   "source": [
    "### Query 4"
   ]
  },
  {
   "cell_type": "code",
   "execution_count": 9,
   "metadata": {},
   "outputs": [
    {
     "name": "stdout",
     "output_type": "stream",
     "text": [
      "[0.663] 159- Nabil Hassan: Nabil is a second-year Data Science student at Al Hussein Technical University, active in the Data Enthusiasts Club. He is interested in data analytics and aims to work as a Data Analyst.\n",
      "[0.64] 239- Rana Fadel: Rana is a senior Data Science student at Al Hussein Technical University, focusing on data science and a member of the Data Science Network.\n",
      "[0.624] 162- Dalia Sayegh: Dalia is a second-year Data Science student at Petra University. She is active in the Data Visualization Society and wants to be a Data Scientist, focusing on data visualizations.\n",
      "[0.604] 231- Salma Ziad: Salma is a second-year Data Science student at Al Hussein Technical University, interested in data analysis and part of the Data Insights Society.\n",
      "[0.602] 254- Dalia Samir: Dalia is a second-year Data Science student at Al Hussein Technical University with an interest in AI development, active in the Data Science Society.\n",
      "[0.597] 222- Alaa Rami: Alaa is a senior Data Science student at the University of Jordan, focusing on data visualization and active in the Visualization Club.\n",
      "[0.563] 185- Omar Sayeed: Omar is a senior Data Science student at Al Hussein Technical University. He is active in the AI and Data Club and plans to pursue a career as a Data Analyst.\n",
      "[0.557] 140- Dina Hasan: Dina is a second-year Data Science student at Petra University. She is part of the Data Visualization Society and aims to work as a Data Analyst, focusing on creating compelling visualizations for complex data.\n",
      "[0.555] 165- Salem Hadi: Salem is a second-year Data Science student at Al Hussein Technical University. He is part of the AI Club and aims to work as a Data Analyst.\n",
      "[0.554] 194- Tariq Badr: Tariq is a senior Data Science student at Princess Sumaya University for Technology, focusing on data visualization. He aims to become a Data Scientist.\n",
      "[0.552] 103- Mohammad Hani: Mohammad is a third-year Data Science student at Jordan University of Science & Technology, specializing in data visualization. He leads the Data Visualization Team and works on transforming data insights into interactive visuals. Mohammad aspires to become a Data Scientist, focusing on data-driven decision-making.\n",
      "[0.519] 155- Ismail Fares: Ismail is a third-year Data Science student at Al Hussein Technical University and part of the Data Enthusiasts Group. He is certified in data analytics and aims to work as a Data Analyst, turning data into business insights.\n",
      "[0.486] 200- Ali Quraishi: Ali is a third-year Data Science student at the University of Jordan, specializing in data analytics. He is part of the Data Analysis Club and aims to become a Data Analyst.\n",
      "[0.486] 219- Tamer Fares: Tamer is a third-year Data Science student at Petra University with an interest in data engineering. He is part of the Data Science Society.\n",
      "[0.483] 191- Salma Hasan: Salma is a third-year Data Science student at the University of Jordan. She is part of the Data Science and Innovation club and aims to work as a Data Scientist.\n",
      "[0.478] 174- Amal Saleh: Amal is a second-year Data Science student at Al Hussein Technical University, passionate about using data for social good. She aims to work as a Data Analyst.\n",
      "[0.469] 115- Rana Faris: Rana is a third-year Data Science student at Petra University, with a passion for data visualization. She has completed several projects in data analysis and aims to work as a Data Scientist, focusing on turning data insights into actionable business decisions.\n",
      "[0.464] 127- Hussam Zaki: Hussam is a second-year Data Science student at Al Hussein Technical University. He focuses on data analysis techniques and is part of the Data Science Club. Hussam aspires to work as a Data Scientist, using data insights to improve business processes.\n",
      "[0.447] 213- Khaled Younes: Khaled is a second-year Data Science student at the University of Jordan, specializing in data analysis and a member of the Data Insights Club.\n",
      "[0.446] 242- Farah Ziad: Farah is a second-year Data Science student at Petra University, interested in data analysis and a member of Data Explorers.\n"
     ]
    }
   ],
   "source": [
    "output, ranks = miner.search(\"second-year Data Science student at Al Hussein Technical University, in the Data Science Club, and interested in Data Visualization\")\n",
    "\n",
    "miner.print_output(output)"
   ]
  },
  {
   "cell_type": "markdown",
   "metadata": {},
   "source": [
    "### Query 5"
   ]
  },
  {
   "cell_type": "code",
   "execution_count": 10,
   "metadata": {},
   "outputs": [
    {
     "name": "stdout",
     "output_type": "stream",
     "text": [
      "[1.0] 159- Nabil Hassan: Nabil is a second-year Data Science student at Al Hussein Technical University, active in the Data Enthusiasts Club. He is interested in data analytics and aims to work as a Data Analyst.\n"
     ]
    }
   ],
   "source": [
    "output, ranks = miner.search(\"Nabil is a second-year Data Science student at Al Hussein Technical University, active in the Data Enthusiasts Club. He is interested in data analytics and aims to work as a Data Analyst.\")\n",
    "\n",
    "miner.print_output(output)"
   ]
  },
  {
   "cell_type": "markdown",
   "metadata": {},
   "source": [
    "## Task 2"
   ]
  },
  {
   "cell_type": "markdown",
   "metadata": {},
   "source": [
    "### User input"
   ]
  },
  {
   "cell_type": "code",
   "execution_count": 11,
   "metadata": {},
   "outputs": [
    {
     "name": "stdout",
     "output_type": "stream",
     "text": [
      "Hello User! Enter a certification name to get the associated students\n",
      "Processing Query..\n",
      "Results:\n"
     ]
    },
    {
     "data": {
      "text/plain": [
       "['[0.269] 239- Rana Fadel: Rana is a senior Data Science student at Al Hussein Technical University, focusing on data science and a member of the Data Science Network.',\n",
       " '[0.252] 191- Salma Hasan: Salma is a third-year Data Science student at the University of Jordan. She is part of the Data Science and Innovation club and aims to work as a Data Scientist.',\n",
       " '[0.248] 200- Ali Quraishi: Ali is a third-year Data Science student at the University of Jordan, specializing in data analytics. He is part of the Data Analysis Club and aims to become a Data Analyst.',\n",
       " '[0.247] 203- Mahmoud Khaled: Mahmoud is a second-year Data Science student at Jordan University of Science & Technology. He is part of the Student Data Society and aims to work as a Data Scientist.',\n",
       " '[0.246] 219- Tamer Fares: Tamer is a third-year Data Science student at Petra University with an interest in data engineering. He is part of the Data Science Society.',\n",
       " '[0.24] 183- Majid Rashid: Majid is a third-year Data Science student at Petra University, specializing in data analytics. He is part of Data Innovators and aims to work as a Data Analyst.',\n",
       " '[0.235] 248- Sara Nabil: Sara is a third-year Data Science student at the University of Jordan, passionate about data science and a member of Young Data Enthusiasts.',\n",
       " '[0.235] 136- Aya Rami: Aya is a Data Science student at Petra University with a strong foundation in data science principles. She is a member of the Data Science Club and aims to become a Data Scientist, focusing on solving social issues with data insights.',\n",
       " '[0.232] 216- Nada Tariq: Nada is a third-year Data Science student at PSUT, focusing on data mining. She is a member of the Data Science Collective and aims to be a Data Scientist.',\n",
       " '[0.228] 171- Karim Saad: Karim is a second-year Data Science student at Petra University, focused on data science and innovation. He is part of the Data Innovation Hub and aims to become a Data Scientist.',\n",
       " '[0.228] 159- Nabil Hassan: Nabil is a second-year Data Science student at Al Hussein Technical University, active in the Data Enthusiasts Club. He is interested in data analytics and aims to work as a Data Analyst.',\n",
       " '[0.221] 213- Khaled Younes: Khaled is a second-year Data Science student at the University of Jordan, specializing in data analysis and a member of the Data Insights Club.',\n",
       " '[0.221] 112- Abeer Nader: Abeer is a Data Science student at Jordan University of Science & Technology, with an enthusiasm for AI and data analysis. She is eager to explore data science projects and aims to become a Data Scientist, focusing on AI-driven solutions for business challenges.',\n",
       " '[0.22] 168- Yasmin Fares: Yasmin is a second-year Data Science student at Princess Sumaya University for Technology. She is part of the Data Science Club and wants to be a Data Scientist, focusing on predictive analytics.',\n",
       " '[0.22] 155- Ismail Fares: Ismail is a third-year Data Science student at Al Hussein Technical University and part of the Data Enthusiasts Group. He is certified in data analytics and aims to work as a Data Analyst, turning data into business insights.',\n",
       " '[0.214] 242- Farah Ziad: Farah is a second-year Data Science student at Petra University, interested in data analysis and a member of Data Explorers.',\n",
       " '[0.211] 194- Tariq Badr: Tariq is a senior Data Science student at Princess Sumaya University for Technology, focusing on data visualization. He aims to become a Data Scientist.',\n",
       " '[0.209] 177- Ahmed Qadri: Ahmed is a senior Data Science student at the University of Jordan, part of the Data Analytics Community. He aims to be a Data Scientist, using data to solve complex challenges.',\n",
       " '[0.208] 152- Sama Kamal: Sama is a Data Science student at the University of Jordan. She is active in the Data Science Society and aims to be a Data Scientist, focusing on data interpretation and its impact on public policy.',\n",
       " '[0.204] 4- Nour Husseini: In her Third year at Petra University, Nour is diving deep into the world of Cyber Security. Her CEH certification and involvement in tech communities reflect her commitment to digital safety. Nour envisions a future as a Cybersecurity Analyst, defending against cyber threats with creativity and vigilance.',\n",
       " '[0.203] 115- Rana Faris: Rana is a third-year Data Science student at Petra University, with a passion for data visualization. She has completed several projects in data analysis and aims to work as a Data Scientist, focusing on turning data insights into actionable business decisions.',\n",
       " '[0.202] 162- Dalia Sayegh: Dalia is a second-year Data Science student at Petra University. She is active in the Data Visualization Society and wants to be a Data Scientist, focusing on data visualizations.',\n",
       " '[0.201] 206- Khaled Samir: Khaled is a senior Data Science student at Princess Sumaya University for Technology, focusing on data engineering. He is part of the Data Engineering Group and aims to work as a Data Engineer.',\n",
       " '[0.201] 231- Salma Ziad: Salma is a second-year Data Science student at Al Hussein Technical University, interested in data analysis and part of the Data Insights Society.',\n",
       " '[0.2] 197- Rima Adnan: Rima is a third-year Data Science student at Jordan University of Science & Technology. She is a member of the Data Science Community and aims to become a Machine Learning Engineer.',\n",
       " '[0.193] 127- Hussam Zaki: Hussam is a second-year Data Science student at Al Hussein Technical University. He focuses on data analysis techniques and is part of the Data Science Club. Hussam aspires to work as a Data Scientist, using data insights to improve business processes.',\n",
       " '[0.193] 254- Dalia Samir: Dalia is a second-year Data Science student at Al Hussein Technical University with an interest in AI development, active in the Data Science Society.',\n",
       " '[0.192] 188- Mona Khaled: Mona is a second-year Data Science student at Petra University. She is a member of the Data Science Society and aims to become a Machine Learning Engineer.',\n",
       " '[0.192] 185- Omar Sayeed: Omar is a senior Data Science student at Al Hussein Technical University. He is active in the AI and Data Club and plans to pursue a career as a Data Analyst.',\n",
       " '[0.191] 228- Tareq Othman: Tareq is a second-year Data Science student at PSUT with a focus on data engineering and active in the Data Engineering Society.',\n",
       " '[0.191] 158- Mona Khalil: Mona is a senior Data Science student at Petra University. She leads data analysis workshops and aims to be a Data Scientist, using data to drive organizational strategy.',\n",
       " '[0.19] 124- Hala Fathi: Hala is a third-year Data Science student at Princess Sumaya University for Technology and leads the Data Science Society. She is passionate about machine learning and aims to become a Data Scientist, using AI for problem-solving in healthcare.',\n",
       " '[0.18] 140- Dina Hasan: Dina is a second-year Data Science student at Petra University. She is part of the Data Visualization Society and aims to work as a Data Analyst, focusing on creating compelling visualizations for complex data.']"
      ]
     },
     "execution_count": 11,
     "metadata": {},
     "output_type": "execute_result"
    }
   ],
   "source": [
    "print(\"Hello User! Enter a certification name to get the associated students\")\n",
    "query = input(\"Enter a Certifcate name\")\n",
    "print(\"Processing Query..\")\n",
    "print(\"Results:\")\n",
    "output, ranks = miner.search(query)\n",
    "output"
   ]
  },
  {
   "cell_type": "markdown",
   "metadata": {},
   "source": [
    "### Test Case 1"
   ]
  },
  {
   "cell_type": "code",
   "execution_count": 12,
   "metadata": {},
   "outputs": [
    {
     "name": "stdout",
     "output_type": "stream",
     "text": [
      "Test Passed: 'There are no matching results' returned for query: Quantum\n"
     ]
    }
   ],
   "source": [
    "def test_no_matching_bios():\n",
    "    query = \"Quantum\"\n",
    "    output, ranks = miner.search(query)\n",
    "    if output == \"There are no matching results\":\n",
    "        print(\"Test Passed: 'There are no matching results' returned for query:\", query)\n",
    "    else:\n",
    "        print(f\"Test Failed: Expected 'There are no matching results', but got {ranks}\")\n",
    "\n",
    "test_no_matching_bios()"
   ]
  },
  {
   "cell_type": "markdown",
   "metadata": {},
   "source": [
    "### Test Case 2"
   ]
  },
  {
   "cell_type": "code",
   "execution_count": 13,
   "metadata": {},
   "outputs": [
    {
     "name": "stdout",
     "output_type": "stream",
     "text": [
      "Test Passed: Related bios returned for query 'Khaled has a knack for translating data into meaningful insights. As a senior at Philadelphia University, he balances academics with his volunteer tutoring. Known for his analytical mindset and knowledge of SQL and Python, Khaled plans to further his expertise as a Data Scientist, focusing on innovative solutions for data challenges.'\n",
      "Bio similarity (1.0) is above threshold.\n"
     ]
    }
   ],
   "source": [
    "def test_low_similarity_bios():\n",
    "    query = \"Khaled has a knack for translating data into meaningful insights. As a senior at Philadelphia University, he balances academics with his volunteer tutoring. Known for his analytical mindset and knowledge of SQL and Python, Khaled plans to further his expertise as a Data Scientist, focusing on innovative solutions for data challenges.\"\n",
    "    output, ranks = miner.search(query)\n",
    "    if output != \"There are no matching results\":\n",
    "        print(f\"Test Passed: Related bios returned for query '{query}'\")\n",
    "        for i, row in ranks.iterrows():\n",
    "            if row[\"Similarity\"] > (max(ranks[\"Similarity\"]) / 1.5):\n",
    "                print(f\"Bio similarity ({row['Similarity']}) is above threshold.\")\n",
    "            else:\n",
    "                print(f\"Bio similarity ({row['Similarity']}) is below threshold.\")\n",
    "    else:\n",
    "        print(f\"Test Failed: Expected 'There are no matching results', but got {ranks}\")\n",
    "\n",
    "test_low_similarity_bios()"
   ]
  },
  {
   "cell_type": "markdown",
   "metadata": {},
   "source": [
    "### Test Case 3"
   ]
  },
  {
   "cell_type": "code",
   "execution_count": 14,
   "metadata": {},
   "outputs": [
    {
     "name": "stdout",
     "output_type": "stream",
     "text": [
      "Test Passed: Multiple matching bios returned for query 'second-year student at Al Hussein Technical University'\n"
     ]
    }
   ],
   "source": [
    "def test_multiple_matching_bios():\n",
    "    query = \"second-year student at Al Hussein Technical University\"\n",
    "    output, ranks = miner.search(query)\n",
    "\n",
    "    if len(ranks) > 1:\n",
    "        print(f\"Test Passed: Multiple matching bios returned for query '{query}'\")\n",
    "    else:\n",
    "        print(\"Test Failed: Expected multiple matching bios but found fewer.\")\n",
    "\n",
    "test_multiple_matching_bios()"
   ]
  },
  {
   "cell_type": "markdown",
   "metadata": {},
   "source": [
    "### Test Case 4"
   ]
  },
  {
   "cell_type": "code",
   "execution_count": 15,
   "metadata": {},
   "outputs": [
    {
     "name": "stdout",
     "output_type": "stream",
     "text": [
      "Test Passed: Found 32 exact matches for 'Data Science'.\n"
     ]
    }
   ],
   "source": [
    "def test_exact_match_bios():\n",
    "    query = \"Data Science\"\n",
    "    output, ranks = miner.search(query)\n",
    "\n",
    "    if output != \"There are no matching results\":\n",
    "        exact_matches = [row[\"Bio\"] for i,row in ranks.iterrows() if query in row[\"Bio\"]]\n",
    "        if len(exact_matches) > 0:\n",
    "            print(f\"Test Passed: Found {len(exact_matches)} exact matches for 'Data Science'.\")\n",
    "        else:\n",
    "            print(\"Test Failed: No exact matches found for 'Data Science'.\")\n",
    "    else:\n",
    "        print(\"Test Failed: Expected related bios but got 'No related bios.'\")\n",
    "\n",
    "test_exact_match_bios()"
   ]
  },
  {
   "cell_type": "markdown",
   "metadata": {},
   "source": [
    "### Test Case 5"
   ]
  },
  {
   "cell_type": "code",
   "execution_count": 16,
   "metadata": {},
   "outputs": [
    {
     "name": "stdout",
     "output_type": "stream",
     "text": [
      "Bios are sorted correctly by similarity.\n"
     ]
    }
   ],
   "source": [
    "def test_ranking():\n",
    "    query = \"third-year Data Science student\"\n",
    "    output, ranks = miner.search(query)\n",
    "\n",
    "    similarities = [bio[\"Similarity\"] for i,bio in ranks.iterrows()]\n",
    "    if similarities == sorted(similarities, reverse=True):\n",
    "        print(\"Bios are sorted correctly by similarity.\")\n",
    "    else:\n",
    "        print(\"Test Failed: Bios are not sorted by similarity.\")\n",
    "test_ranking()\n",
    "\n"
   ]
  }
 ],
 "metadata": {
  "kernelspec": {
   "display_name": "data-mining-B2o6RsCC-py3.10",
   "language": "python",
   "name": "python3"
  },
  "language_info": {
   "codemirror_mode": {
    "name": "ipython",
    "version": 3
   },
   "file_extension": ".py",
   "mimetype": "text/x-python",
   "name": "python",
   "nbconvert_exporter": "python",
   "pygments_lexer": "ipython3",
   "version": "3.10.12"
  }
 },
 "nbformat": 4,
 "nbformat_minor": 2
}
